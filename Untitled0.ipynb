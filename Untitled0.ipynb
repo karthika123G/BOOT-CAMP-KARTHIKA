{
  "nbformat": 4,
  "nbformat_minor": 0,
  "metadata": {
    "colab": {
      "name": "Untitled0.ipynb",
      "provenance": [],
      "collapsed_sections": [],
      "authorship_tag": "ABX9TyPAz8kp8GqBFwlrNfxWt7Rc",
      "include_colab_link": true
    },
    "kernelspec": {
      "name": "python3",
      "display_name": "Python 3"
    },
    "language_info": {
      "name": "python"
    }
  },
  "cells": [
    {
      "cell_type": "markdown",
      "metadata": {
        "id": "view-in-github",
        "colab_type": "text"
      },
      "source": [
        "<a href=\"https://colab.research.google.com/github/karthika123G/BOOT-CAMP-KARTHIKA/blob/main/Untitled0.ipynb\" target=\"_parent\"><img src=\"https://colab.research.google.com/assets/colab-badge.svg\" alt=\"Open In Colab\"/></a>"
      ]
    },
    {
      "cell_type": "code",
      "metadata": {
        "colab": {
          "base_uri": "https://localhost:8080/"
        },
        "id": "PLg5vYn65qtX",
        "outputId": "0778235f-f8fb-4cb0-b088-ce33137546a9"
      },
      "source": [
        "import requests\n",
        "#import os\n",
        "from datetime import datetime\n",
        "\n",
        "api_key = '58d83bfde53bd5a8d9bfdbef8ae1c744'\n",
        "location = input(\"Enter the city name: \")\n",
        "\n",
        "complete_api_link =\"https://api.openweathermap.org/data/2.5/weather?q=\"+location+\"&appid=\"+api_key\n",
        "api_link = requests.get(complete_api_link)\n",
        "api_data = api_link.json()\n",
        "\n",
        "#create variables to store and display data\n",
        "temp_city = ((api_data['main']['temp']) - 273.15)\n",
        "weather_desc = api_data['weather'][0]['description']\n",
        "hmdt = api_data['main']['humidity']\n",
        "wind_spd = api_data['wind']['speed']\n",
        "date_time = datetime.now().strftime(\"%d %b %y | %I:%M:%S %P\")\n",
        "\n",
        "print(\"------------------------------------------------------------------\")\n",
        "print(\"Weather Stats for -{} || {}\".format(location.upper(), date_time))\n",
        "print(\"------------------------------------------------------------------\")\n",
        "\n",
        "print(\"Current temparature is: {:.2f} deg C\".format(temp_city))\n",
        "print(\"Current weather desc  :\",weather_desc)\n",
        "print(\"Current Humidity      :\",hmdt, '%')\n",
        "print(\"Current wind speed    :\",wind_spd,'Kmph')"
      ],
      "execution_count": 6,
      "outputs": [
        {
          "output_type": "stream",
          "text": [
            "Enter the city name: tirunelveli\n",
            "------------------------------------------------------------------\n",
            "Weather Stats for -TIRUNELVELI || 23 Jun 21 | 02:29:18 pm\n",
            "------------------------------------------------------------------\n",
            "Current temparature is: 30.55 deg C\n",
            "Current weather desc  : scattered clouds\n",
            "Current Humidity      : 55 %\n",
            "Current wind speed    : 6 Kmph\n"
          ],
          "name": "stdout"
        }
      ]
    }
  ]
}